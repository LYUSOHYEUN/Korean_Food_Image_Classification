{
 "cells": [
  {
   "cell_type": "code",
   "execution_count": 1,
   "metadata": {
    "colab": {
     "base_uri": "https://localhost:8080/"
    },
    "executionInfo": {
     "elapsed": 12260,
     "status": "ok",
     "timestamp": 1701091218019,
     "user": {
      "displayName": "DATA",
      "userId": "10508943087954900586"
     },
     "user_tz": -540
    },
    "id": "hnn42NEP_6GE",
    "outputId": "4f76acea-53af-4e7c-eb11-1e52fda6fa0e"
   },
   "outputs": [
    {
     "name": "stdout",
     "output_type": "stream",
     "text": [
      "Collecting torch_optimizer\n",
      "  Downloading torch_optimizer-0.3.0-py3-none-any.whl (61 kB)\n",
      "\u001b[?25l     \u001b[90m━━━━━━━━━━━━━━━━━━━━━━━━━━━━━━━━━━━━━━━━\u001b[0m \u001b[32m0.0/61.9 kB\u001b[0m \u001b[31m?\u001b[0m eta \u001b[36m-:--:--\u001b[0m\r\u001b[2K     \u001b[91m━━━━━━━━━━━━━━━━━━━━━━━━━━━━━━━━━━━━━━━\u001b[0m\u001b[91m╸\u001b[0m \u001b[32m61.4/61.9 kB\u001b[0m \u001b[31m2.0 MB/s\u001b[0m eta \u001b[36m0:00:01\u001b[0m\r\u001b[2K     \u001b[90m━━━━━━━━━━━━━━━━━━━━━━━━━━━━━━━━━━━━━━━━\u001b[0m \u001b[32m61.9/61.9 kB\u001b[0m \u001b[31m1.6 MB/s\u001b[0m eta \u001b[36m0:00:00\u001b[0m\n",
      "\u001b[?25hRequirement already satisfied: torch>=1.5.0 in /usr/local/lib/python3.10/dist-packages (from torch_optimizer) (2.1.0+cu118)\n",
      "Collecting pytorch-ranger>=0.1.1 (from torch_optimizer)\n",
      "  Downloading pytorch_ranger-0.1.1-py3-none-any.whl (14 kB)\n",
      "Requirement already satisfied: filelock in /usr/local/lib/python3.10/dist-packages (from torch>=1.5.0->torch_optimizer) (3.13.1)\n",
      "Requirement already satisfied: typing-extensions in /usr/local/lib/python3.10/dist-packages (from torch>=1.5.0->torch_optimizer) (4.5.0)\n",
      "Requirement already satisfied: sympy in /usr/local/lib/python3.10/dist-packages (from torch>=1.5.0->torch_optimizer) (1.12)\n",
      "Requirement already satisfied: networkx in /usr/local/lib/python3.10/dist-packages (from torch>=1.5.0->torch_optimizer) (3.2.1)\n",
      "Requirement already satisfied: jinja2 in /usr/local/lib/python3.10/dist-packages (from torch>=1.5.0->torch_optimizer) (3.1.2)\n",
      "Requirement already satisfied: fsspec in /usr/local/lib/python3.10/dist-packages (from torch>=1.5.0->torch_optimizer) (2023.6.0)\n",
      "Requirement already satisfied: triton==2.1.0 in /usr/local/lib/python3.10/dist-packages (from torch>=1.5.0->torch_optimizer) (2.1.0)\n",
      "Requirement already satisfied: MarkupSafe>=2.0 in /usr/local/lib/python3.10/dist-packages (from jinja2->torch>=1.5.0->torch_optimizer) (2.1.3)\n",
      "Requirement already satisfied: mpmath>=0.19 in /usr/local/lib/python3.10/dist-packages (from sympy->torch>=1.5.0->torch_optimizer) (1.3.0)\n",
      "Installing collected packages: pytorch-ranger, torch_optimizer\n",
      "Successfully installed pytorch-ranger-0.1.1 torch_optimizer-0.3.0\n",
      "Collecting patool\n",
      "  Downloading patool-2.0.0-py2.py3-none-any.whl (93 kB)\n",
      "\u001b[2K     \u001b[90m━━━━━━━━━━━━━━━━━━━━━━━━━━━━━━━━━━━━━━━━\u001b[0m \u001b[32m93.7/93.7 kB\u001b[0m \u001b[31m2.9 MB/s\u001b[0m eta \u001b[36m0:00:00\u001b[0m\n",
      "\u001b[?25hInstalling collected packages: patool\n",
      "Successfully installed patool-2.0.0\n"
     ]
    }
   ],
   "source": [
    "!pip install torch_optimizer\n",
    "!pip install patool"
   ]
  },
  {
   "cell_type": "code",
   "execution_count": null,
   "metadata": {
    "executionInfo": {
     "elapsed": 6706,
     "status": "ok",
     "timestamp": 1701091224721,
     "user": {
      "displayName": "DATA",
      "userId": "10508943087954900586"
     },
     "user_tz": -540
    },
    "id": "_Rl_BwZFnUFy"
   },
   "outputs": [],
   "source": [
    "# 필요한 라이브러리 import\n",
    "import zipfile as zf\n",
    "import os\n",
    "import patoolib\n",
    "\n",
    "import time\n",
    "import copy\n",
    "import random\n",
    "import numpy as np\n",
    "import seaborn as sns\n",
    "import matplotlib.pyplot as plt\n",
    "import torch\n",
    "import torchvision\n",
    "from torch import nn, optim\n",
    "from torchvision import transforms\n",
    "from torch.optim import lr_scheduler\n",
    "from sklearn.metrics import confusion_matrix\n",
    "from torchvision.datasets import ImageFolder\n",
    "from torch.utils.data import DataLoader\n",
    "from torch.optim.lr_scheduler import StepLR\n",
    "from tqdm import tqdm\n",
    "from multiprocessing import cpu_count\n",
    "from torch.utils.data import Subset\n",
    "from PIL import Image\n",
    "from torchvision.transforms import ColorJitter, RandomRotation\n",
    "import torch_optimizer as optim\n",
    "from torch.utils.data import Dataset"
   ]
  },
  {
   "cell_type": "code",
   "execution_count": 3,
   "metadata": {
    "colab": {
     "base_uri": "https://localhost:8080/"
    },
    "executionInfo": {
     "elapsed": 21440,
     "status": "ok",
     "timestamp": 1701091246155,
     "user": {
      "displayName": "DATA",
      "userId": "10508943087954900586"
     },
     "user_tz": -540
    },
    "id": "0XSdTiMMnsB-",
    "outputId": "cc0684ec-fadd-48ac-c42a-629515af5312"
   },
   "outputs": [
    {
     "name": "stdout",
     "output_type": "stream",
     "text": [
      "Mounted at /content/drive\n"
     ]
    }
   ],
   "source": [
    "# 구글 드라이브 연동\n",
    "from google.colab import drive\n",
    "drive.mount('/content/drive')"
   ]
  },
  {
   "cell_type": "code",
   "execution_count": null,
   "metadata": {
    "executionInfo": {
     "elapsed": 178960,
     "status": "ok",
     "timestamp": 1701091425112,
     "user": {
      "displayName": "DATA",
      "userId": "10508943087954900586"
     },
     "user_tz": -540
    },
    "id": "8urMdKdJnx-M"
   },
   "outputs": [],
   "source": [
    "# 전체 데이터셋\n",
    "files = zf.ZipFile(\"/content/drive/MyDrive/데이터 크리에이터 캠프/데이터셋.zip\",'r')\n",
    "files.extractall()\n",
    "files.close()"
   ]
  },
  {
   "cell_type": "code",
   "execution_count": null,
   "metadata": {
    "colab": {
     "base_uri": "https://localhost:8080/"
    },
    "executionInfo": {
     "elapsed": 33176,
     "status": "ok",
     "timestamp": 1701091458283,
     "user": {
      "displayName": "DATA",
      "userId": "10508943087954900586"
     },
     "user_tz": -540
    },
    "id": "IozBqtl8MQ5g",
    "outputId": "817f3c4a-b01d-4be5-b6b4-2ce405fa56d0"
   },
   "outputs": [],
   "source": [
    "# train 데이터셋\n",
    "os.makedirs(\"/content/health/train\", exist_ok=True)\n",
    "!unzip -O cp949 /content/kfood_health_train.zip -d /content/health/train"
   ]
  },
  {
   "cell_type": "code",
   "execution_count": null,
   "metadata": {
    "colab": {
     "base_uri": "https://localhost:8080/"
    },
    "executionInfo": {
     "elapsed": 3875,
     "status": "ok",
     "timestamp": 1701091462107,
     "user": {
      "displayName": "DATA",
      "userId": "10508943087954900586"
     },
     "user_tz": -540
    },
    "id": "FuXwKNYiLu5z",
    "outputId": "641c9b91-89dc-4502-e5e7-8fb7c6e3bf42"
   },
   "outputs": [],
   "source": [
    "# validation 데이터셋\n",
    "os.makedirs(\"/content/health/val\", exist_ok=True)\n",
    "!unzip -O cp949 /content/kfood_health_val.zip -d /content/health/val"
   ]
  },
  {
   "cell_type": "code",
   "execution_count": 7,
   "metadata": {
    "colab": {
     "base_uri": "https://localhost:8080/"
    },
    "executionInfo": {
     "elapsed": 23,
     "status": "ok",
     "timestamp": 1701091462108,
     "user": {
      "displayName": "DATA",
      "userId": "10508943087954900586"
     },
     "user_tz": -540
    },
    "id": "lWAj9F0gnyKw",
    "outputId": "0e9ceb28-7b8f-4d3f-b8f7-7e247ad6f70b"
   },
   "outputs": [
    {
     "name": "stdout",
     "output_type": "stream",
     "text": [
      "drive\tkfood_health_train.zip\tkfood_train.zip  sample_data\n",
      "health\tkfood_health_val.zip\tkfood_val.zip\t validate_dist.ipynb\n"
     ]
    }
   ],
   "source": [
    "# 압축 확인\n",
    "!ls"
   ]
  },
  {
   "cell_type": "markdown",
   "metadata": {
    "id": "MrSVSiRHrJIt"
   },
   "source": [
    "### **MISSION 3-1.**\n",
    "\n",
    "- Mission2에서 학습시킨 모델을 활용하여 건강관리를 위한 음식 이미지 데이터를\n",
    "13개의 클래스로 분류하는 모델을 만들고, 학습시킨다.\n",
    "- HINT : transfer learning, linear probing,\n",
    "fine-tuning, few-shot learning 등"
   ]
  },
  {
   "cell_type": "code",
   "execution_count": 8,
   "metadata": {
    "executionInfo": {
     "elapsed": 751,
     "status": "ok",
     "timestamp": 1701091462854,
     "user": {
      "displayName": "DATA",
      "userId": "10508943087954900586"
     },
     "user_tz": -540
    },
    "id": "ZSlSKJd5mK-8"
   },
   "outputs": [],
   "source": [
    "# 데이터셋 로드\n",
    "train_ds = ImageFolder('/content/health/train')\n",
    "val_ds = ImageFolder('/content/health/val')"
   ]
  },
  {
   "cell_type": "code",
   "execution_count": 9,
   "metadata": {
    "colab": {
     "base_uri": "https://localhost:8080/"
    },
    "executionInfo": {
     "elapsed": 12,
     "status": "ok",
     "timestamp": 1701091462855,
     "user": {
      "displayName": "DATA",
      "userId": "10508943087954900586"
     },
     "user_tz": -540
    },
    "id": "y_qCR5S3lj2_",
    "outputId": "f16e0785-fb3f-4bf0-991e-9405d89d4b12"
   },
   "outputs": [
    {
     "name": "stdout",
     "output_type": "stream",
     "text": [
      "14115\n",
      "1764\n"
     ]
    }
   ],
   "source": [
    "print(len(train_ds))\n",
    "print(len(val_ds))"
   ]
  },
  {
   "cell_type": "code",
   "execution_count": null,
   "metadata": {
    "colab": {
     "base_uri": "https://localhost:8080/"
    },
    "executionInfo": {
     "elapsed": 10,
     "status": "ok",
     "timestamp": 1701091462855,
     "user": {
      "displayName": "DATA",
      "userId": "10508943087954900586"
     },
     "user_tz": -540
    },
    "id": "LSrkUW-cirWF",
    "outputId": "c424153e-794e-4dc0-b511-7c2d036f6163"
   },
   "outputs": [
    {
     "name": "stdout",
     "output_type": "stream",
     "text": [
      "11292\n",
      "2823\n"
     ]
    }
   ],
   "source": [
    "# train 데이터셋을 train, validation으로 분할\n",
    "random.seed(123)\n",
    "\n",
    "train_ratio = 0.8\n",
    "train_size = int(train_ratio * len(train_ds))\n",
    "val_size = len(train_ds) - train_size\n",
    "\n",
    "indices = list(range(len(train_ds)))                # 인덱스를 무작위로 섞어 무작위로 분할하도록 함\n",
    "random.shuffle(indices)\n",
    "\n",
    "train_indices = indices[:train_size]\n",
    "val_indices = list(set(indices) - set(train_indices))\n",
    "val_indices.sort()\n",
    "\n",
    "train_dataset = Subset(train_ds, train_indices)\n",
    "val_dataset = Subset(train_ds, val_indices)\n",
    "\n",
    "print(len(train_dataset))\n",
    "print(len(val_dataset))"
   ]
  },
  {
   "cell_type": "code",
   "execution_count": null,
   "metadata": {
    "executionInfo": {
     "elapsed": 8,
     "status": "ok",
     "timestamp": 1701091462855,
     "user": {
      "displayName": "DATA",
      "userId": "10508943087954900586"
     },
     "user_tz": -540
    },
    "id": "o8FbFjB2logE"
   },
   "outputs": [],
   "source": [
    "# Subset한 데이터에 이미지 변환을 적용하기 위해 사용자 정의 데이터셋 클래스 정의\n",
    "class MyTransformDataset(Dataset):\n",
    "    def __init__(self, dataset, transform=None):    # 클래스의 생성자, 데이터셋에 이미지 변환 적용\n",
    "        self.dataset = dataset\n",
    "        self.transform = transform\n",
    "\n",
    "    def __len__(self):\n",
    "        return len(self.dataset)\n",
    "\n",
    "    def __getitem__(self, idx):\n",
    "        image, label = self.dataset[idx]\n",
    "\n",
    "        if self.transform:\n",
    "            image = self.transform(image)\n",
    "\n",
    "        return image, label"
   ]
  },
  {
   "cell_type": "code",
   "execution_count": null,
   "metadata": {
    "executionInfo": {
     "elapsed": 8,
     "status": "ok",
     "timestamp": 1701091462855,
     "user": {
      "displayName": "DATA",
      "userId": "10508943087954900586"
     },
     "user_tz": -540
    },
    "id": "tuoo7sailudC"
   },
   "outputs": [],
   "source": [
    "# train 데이터에 대한 변환 설정 및 데이터셋 로드\n",
    "train_transform = transforms.Compose([\n",
    "    transforms.RandomResizedCrop((224, 224)),\n",
    "    transforms.RandomRotation(degrees=(-15, 15)),\n",
    "    transforms.ToTensor(),\n",
    "    transforms.Lambda(lambda x: x * 2 - 1)\n",
    "])\n",
    "\n",
    "train_dataset = MyTransformDataset(train_dataset, transform=train_transform)"
   ]
  },
  {
   "cell_type": "code",
   "execution_count": null,
   "metadata": {
    "executionInfo": {
     "elapsed": 7,
     "status": "ok",
     "timestamp": 1701091462855,
     "user": {
      "displayName": "DATA",
      "userId": "10508943087954900586"
     },
     "user_tz": -540
    },
    "id": "dys9LsSblwch"
   },
   "outputs": [],
   "source": [
    "# validation, test 데이터에 대한 변환 설정 및 데이터셋 로드\n",
    "valtest_transform = transforms.Compose([\n",
    "    transforms.Resize((224, 224)),                            # ResNet34의 가장 적합한 input size인 3*224*224으로 설정\n",
    "    transforms.ToTensor(),                                    # 딥러닝 모델은 일반적으로 텐서 형태의 데이터를 입력하므로 텐서로 변환\n",
    "    transforms.Lambda(lambda x: x * 2 -1)                     # Min-Max(-1~1) 스케일링 적용\n",
    "])\n",
    "\n",
    "val_dataset = MyTransformDataset(val_dataset, transform=valtest_transform)\n",
    "test_dataset = ImageFolder('/content/health/val', transform=valtest_transform)"
   ]
  },
  {
   "cell_type": "code",
   "execution_count": null,
   "metadata": {
    "executionInfo": {
     "elapsed": 7,
     "status": "ok",
     "timestamp": 1701091462855,
     "user": {
      "displayName": "DATA",
      "userId": "10508943087954900586"
     },
     "user_tz": -540
    },
    "id": "wtCJ7fQljKZE"
   },
   "outputs": [],
   "source": [
    "# 데이터 로더 설정\n",
    "BATCH_SIZE = 16                                                                 # 미니배치 크기를 16로 정의\n",
    "train_loader = DataLoader(train_dataset, batch_size=BATCH_SIZE, shuffle=True)\n",
    "val_loader = DataLoader(val_dataset, batch_size=BATCH_SIZE, shuffle=False)      # 검증 데이터나 테스트 데이터는 모델의 성능을 평가하는데 사용되므로 무작위성을 추가하면\n",
    "test_loader = DataLoader(test_dataset, batch_size=BATCH_SIZE, shuffle=False)    # 모델 성능 평가에 영향을 미칠 수 있으므로 shuffle=false로 지정"
   ]
  },
  {
   "cell_type": "code",
   "execution_count": null,
   "metadata": {
    "executionInfo": {
     "elapsed": 6,
     "status": "ok",
     "timestamp": 1701091462855,
     "user": {
      "displayName": "DATA",
      "userId": "10508943087954900586"
     },
     "user_tz": -540
    },
    "id": "A3qPb7EfsF4k"
   },
   "outputs": [],
   "source": [
    "# 디바이스 및 환경 설정\n",
    "DEVICE = torch.device('cuda') if torch.cuda.is_available() else torch.device('cpu')   # DEVICE를 GPU가 사용 가능한 경우 'cuda'로, 그렇지 않은 경우 'cpu'로 설정\n",
    "IMG_SIZE = (224, 224)                                                                 # 이미지 크기를 (224, 224)로 정의\n",
    "LEARNING_RATE = 0.001                                                                 # 학습률을 0.001로 정의\n",
    "NUM_CLASSES = 13                                                                      # 클래스 수를 13으로 정의\n",
    "NUM_EPOCHS = 100                                                                      # 에포크 수를 100으로 정의\n",
    "NUM_CPU = cpu_count()                                                                 # 사용 가능한 CPU 코어 수를 가져옴"
   ]
  },
  {
   "cell_type": "code",
   "execution_count": 16,
   "metadata": {
    "colab": {
     "base_uri": "https://localhost:8080/"
    },
    "executionInfo": {
     "elapsed": 1815,
     "status": "ok",
     "timestamp": 1701091464664,
     "user": {
      "displayName": "DATA",
      "userId": "10508943087954900586"
     },
     "user_tz": -540
    },
    "id": "68X_fVZ-WyaS",
    "outputId": "23165863-839c-411a-e22e-2911846e58be"
   },
   "outputs": [
    {
     "name": "stderr",
     "output_type": "stream",
     "text": [
      "/usr/local/lib/python3.10/dist-packages/torchvision/models/_utils.py:208: UserWarning: The parameter 'pretrained' is deprecated since 0.13 and may be removed in the future, please use 'weights' instead.\n",
      "  warnings.warn(\n",
      "/usr/local/lib/python3.10/dist-packages/torchvision/models/_utils.py:223: UserWarning: Arguments other than a weight enum or `None` for 'weights' are deprecated since 0.13 and may be removed in the future. The current behavior is equivalent to passing `weights=None`.\n",
      "  warnings.warn(msg)\n"
     ]
    },
    {
     "data": {
      "text/plain": [
       "_IncompatibleKeys(missing_keys=['classifier.weight', 'classifier.bias'], unexpected_keys=['classifier.0.weight', 'classifier.0.bias', 'classifier.2.weight', 'classifier.2.bias', 'classifier.2.running_mean', 'classifier.2.running_var', 'classifier.2.num_batches_tracked', 'classifier.4.weight', 'classifier.4.bias'])"
      ]
     },
     "execution_count": 16,
     "metadata": {},
     "output_type": "execute_result"
    }
   ],
   "source": [
    "# 새로운 클래스 수\n",
    "num_classes = 13\n",
    "\n",
    "# 모델 정의 (Mission2에서 학습한 모델을 로드)\n",
    "model = torchvision.models.densenet121(pretrained=False)\n",
    "num_ftrs = model.classifier.in_features\n",
    "\n",
    "# 새로운 출력 레이어 정의\n",
    "new_classifier = nn.Linear(num_ftrs, num_classes)\n",
    "\n",
    "# 새로운 출력 레이어에 이전 가중치를 복사\n",
    "checkpoint = torch.load('/content/drive/MyDrive/데이터 크리에이터 캠프/본선/checkpoint/M2_densenet121_final.pth', map_location=torch.device('cpu'))\n",
    "\n",
    "# classifier.weight 및 classifier.bias의 크기 수정\n",
    "# checkpoint['classifier.weight'] = checkpoint['classifier.weight'][:num_classes, :]\n",
    "# checkpoint['classifier.bias'] = checkpoint['classifier.bias'][:num_classes]\n",
    "\n",
    "# 모델에 새로운 출력 레이어 설정\n",
    "model.classifier = new_classifier\n",
    "\n",
    "# 모델의 가중치 로드\n",
    "model.load_state_dict(checkpoint, strict=False)"
   ]
  },
  {
   "cell_type": "code",
   "execution_count": 17,
   "metadata": {
    "colab": {
     "base_uri": "https://localhost:8080/"
    },
    "executionInfo": {
     "elapsed": 546,
     "status": "ok",
     "timestamp": 1701091465202,
     "user": {
      "displayName": "DATA",
      "userId": "10508943087954900586"
     },
     "user_tz": -540
    },
    "id": "SxzZ6_L4lX53",
    "outputId": "9f32c75c-724a-42f4-f83a-84f40012e9cf"
   },
   "outputs": [
    {
     "name": "stdout",
     "output_type": "stream",
     "text": [
      "Parameter name: features.conv0.weight\n",
      "Parameter name: features.norm0.weight\n",
      "Parameter name: features.norm0.bias\n",
      "Parameter name: features.denseblock1.denselayer1.norm1.weight\n",
      "Parameter name: features.denseblock1.denselayer1.norm1.bias\n",
      "Parameter name: features.denseblock1.denselayer1.conv1.weight\n",
      "Parameter name: features.denseblock1.denselayer1.norm2.weight\n",
      "Parameter name: features.denseblock1.denselayer1.norm2.bias\n",
      "Parameter name: features.denseblock1.denselayer1.conv2.weight\n",
      "Parameter name: features.denseblock1.denselayer2.norm1.weight\n",
      "Parameter name: features.denseblock1.denselayer2.norm1.bias\n",
      "Parameter name: features.denseblock1.denselayer2.conv1.weight\n",
      "Parameter name: features.denseblock1.denselayer2.norm2.weight\n",
      "Parameter name: features.denseblock1.denselayer2.norm2.bias\n",
      "Parameter name: features.denseblock1.denselayer2.conv2.weight\n",
      "Parameter name: features.denseblock1.denselayer3.norm1.weight\n",
      "Parameter name: features.denseblock1.denselayer3.norm1.bias\n",
      "Parameter name: features.denseblock1.denselayer3.conv1.weight\n",
      "Parameter name: features.denseblock1.denselayer3.norm2.weight\n",
      "Parameter name: features.denseblock1.denselayer3.norm2.bias\n",
      "Parameter name: features.denseblock1.denselayer3.conv2.weight\n",
      "Parameter name: features.denseblock1.denselayer4.norm1.weight\n",
      "Parameter name: features.denseblock1.denselayer4.norm1.bias\n",
      "Parameter name: features.denseblock1.denselayer4.conv1.weight\n",
      "Parameter name: features.denseblock1.denselayer4.norm2.weight\n",
      "Parameter name: features.denseblock1.denselayer4.norm2.bias\n",
      "Parameter name: features.denseblock1.denselayer4.conv2.weight\n",
      "Parameter name: features.denseblock1.denselayer5.norm1.weight\n",
      "Parameter name: features.denseblock1.denselayer5.norm1.bias\n",
      "Parameter name: features.denseblock1.denselayer5.conv1.weight\n",
      "Parameter name: features.denseblock1.denselayer5.norm2.weight\n",
      "Parameter name: features.denseblock1.denselayer5.norm2.bias\n",
      "Parameter name: features.denseblock1.denselayer5.conv2.weight\n",
      "Parameter name: features.denseblock1.denselayer6.norm1.weight\n",
      "Parameter name: features.denseblock1.denselayer6.norm1.bias\n",
      "Parameter name: features.denseblock1.denselayer6.conv1.weight\n",
      "Parameter name: features.denseblock1.denselayer6.norm2.weight\n",
      "Parameter name: features.denseblock1.denselayer6.norm2.bias\n",
      "Parameter name: features.denseblock1.denselayer6.conv2.weight\n",
      "Parameter name: features.transition1.norm.weight\n",
      "Parameter name: features.transition1.norm.bias\n",
      "Parameter name: features.transition1.conv.weight\n",
      "Parameter name: features.denseblock2.denselayer1.norm1.weight\n",
      "Parameter name: features.denseblock2.denselayer1.norm1.bias\n",
      "Parameter name: features.denseblock2.denselayer1.conv1.weight\n",
      "Parameter name: features.denseblock2.denselayer1.norm2.weight\n",
      "Parameter name: features.denseblock2.denselayer1.norm2.bias\n",
      "Parameter name: features.denseblock2.denselayer1.conv2.weight\n",
      "Parameter name: features.denseblock2.denselayer2.norm1.weight\n",
      "Parameter name: features.denseblock2.denselayer2.norm1.bias\n",
      "Parameter name: features.denseblock2.denselayer2.conv1.weight\n",
      "Parameter name: features.denseblock2.denselayer2.norm2.weight\n",
      "Parameter name: features.denseblock2.denselayer2.norm2.bias\n",
      "Parameter name: features.denseblock2.denselayer2.conv2.weight\n",
      "Parameter name: features.denseblock2.denselayer3.norm1.weight\n",
      "Parameter name: features.denseblock2.denselayer3.norm1.bias\n",
      "Parameter name: features.denseblock2.denselayer3.conv1.weight\n",
      "Parameter name: features.denseblock2.denselayer3.norm2.weight\n",
      "Parameter name: features.denseblock2.denselayer3.norm2.bias\n",
      "Parameter name: features.denseblock2.denselayer3.conv2.weight\n",
      "Parameter name: features.denseblock2.denselayer4.norm1.weight\n",
      "Parameter name: features.denseblock2.denselayer4.norm1.bias\n",
      "Parameter name: features.denseblock2.denselayer4.conv1.weight\n",
      "Parameter name: features.denseblock2.denselayer4.norm2.weight\n",
      "Parameter name: features.denseblock2.denselayer4.norm2.bias\n",
      "Parameter name: features.denseblock2.denselayer4.conv2.weight\n",
      "Parameter name: features.denseblock2.denselayer5.norm1.weight\n",
      "Parameter name: features.denseblock2.denselayer5.norm1.bias\n",
      "Parameter name: features.denseblock2.denselayer5.conv1.weight\n",
      "Parameter name: features.denseblock2.denselayer5.norm2.weight\n",
      "Parameter name: features.denseblock2.denselayer5.norm2.bias\n",
      "Parameter name: features.denseblock2.denselayer5.conv2.weight\n",
      "Parameter name: features.denseblock2.denselayer6.norm1.weight\n",
      "Parameter name: features.denseblock2.denselayer6.norm1.bias\n",
      "Parameter name: features.denseblock2.denselayer6.conv1.weight\n",
      "Parameter name: features.denseblock2.denselayer6.norm2.weight\n",
      "Parameter name: features.denseblock2.denselayer6.norm2.bias\n",
      "Parameter name: features.denseblock2.denselayer6.conv2.weight\n",
      "Parameter name: features.denseblock2.denselayer7.norm1.weight\n",
      "Parameter name: features.denseblock2.denselayer7.norm1.bias\n",
      "Parameter name: features.denseblock2.denselayer7.conv1.weight\n",
      "Parameter name: features.denseblock2.denselayer7.norm2.weight\n",
      "Parameter name: features.denseblock2.denselayer7.norm2.bias\n",
      "Parameter name: features.denseblock2.denselayer7.conv2.weight\n",
      "Parameter name: features.denseblock2.denselayer8.norm1.weight\n",
      "Parameter name: features.denseblock2.denselayer8.norm1.bias\n",
      "Parameter name: features.denseblock2.denselayer8.conv1.weight\n",
      "Parameter name: features.denseblock2.denselayer8.norm2.weight\n",
      "Parameter name: features.denseblock2.denselayer8.norm2.bias\n",
      "Parameter name: features.denseblock2.denselayer8.conv2.weight\n",
      "Parameter name: features.denseblock2.denselayer9.norm1.weight\n",
      "Parameter name: features.denseblock2.denselayer9.norm1.bias\n",
      "Parameter name: features.denseblock2.denselayer9.conv1.weight\n",
      "Parameter name: features.denseblock2.denselayer9.norm2.weight\n",
      "Parameter name: features.denseblock2.denselayer9.norm2.bias\n",
      "Parameter name: features.denseblock2.denselayer9.conv2.weight\n",
      "Parameter name: features.denseblock2.denselayer10.norm1.weight\n",
      "Parameter name: features.denseblock2.denselayer10.norm1.bias\n",
      "Parameter name: features.denseblock2.denselayer10.conv1.weight\n",
      "Parameter name: features.denseblock2.denselayer10.norm2.weight\n",
      "Parameter name: features.denseblock2.denselayer10.norm2.bias\n",
      "Parameter name: features.denseblock2.denselayer10.conv2.weight\n",
      "Parameter name: features.denseblock2.denselayer11.norm1.weight\n",
      "Parameter name: features.denseblock2.denselayer11.norm1.bias\n",
      "Parameter name: features.denseblock2.denselayer11.conv1.weight\n",
      "Parameter name: features.denseblock2.denselayer11.norm2.weight\n",
      "Parameter name: features.denseblock2.denselayer11.norm2.bias\n",
      "Parameter name: features.denseblock2.denselayer11.conv2.weight\n",
      "Parameter name: features.denseblock2.denselayer12.norm1.weight\n",
      "Parameter name: features.denseblock2.denselayer12.norm1.bias\n",
      "Parameter name: features.denseblock2.denselayer12.conv1.weight\n",
      "Parameter name: features.denseblock2.denselayer12.norm2.weight\n",
      "Parameter name: features.denseblock2.denselayer12.norm2.bias\n",
      "Parameter name: features.denseblock2.denselayer12.conv2.weight\n",
      "Parameter name: features.transition2.norm.weight\n",
      "Parameter name: features.transition2.norm.bias\n",
      "Parameter name: features.transition2.conv.weight\n",
      "Parameter name: features.denseblock3.denselayer1.norm1.weight\n",
      "Parameter name: features.denseblock3.denselayer1.norm1.bias\n",
      "Parameter name: features.denseblock3.denselayer1.conv1.weight\n",
      "Parameter name: features.denseblock3.denselayer1.norm2.weight\n",
      "Parameter name: features.denseblock3.denselayer1.norm2.bias\n",
      "Parameter name: features.denseblock3.denselayer1.conv2.weight\n",
      "Parameter name: features.denseblock3.denselayer2.norm1.weight\n",
      "Parameter name: features.denseblock3.denselayer2.norm1.bias\n",
      "Parameter name: features.denseblock3.denselayer2.conv1.weight\n",
      "Parameter name: features.denseblock3.denselayer2.norm2.weight\n",
      "Parameter name: features.denseblock3.denselayer2.norm2.bias\n",
      "Parameter name: features.denseblock3.denselayer2.conv2.weight\n",
      "Parameter name: features.denseblock3.denselayer3.norm1.weight\n",
      "Parameter name: features.denseblock3.denselayer3.norm1.bias\n",
      "Parameter name: features.denseblock3.denselayer3.conv1.weight\n",
      "Parameter name: features.denseblock3.denselayer3.norm2.weight\n",
      "Parameter name: features.denseblock3.denselayer3.norm2.bias\n",
      "Parameter name: features.denseblock3.denselayer3.conv2.weight\n",
      "Parameter name: features.denseblock3.denselayer4.norm1.weight\n",
      "Parameter name: features.denseblock3.denselayer4.norm1.bias\n",
      "Parameter name: features.denseblock3.denselayer4.conv1.weight\n",
      "Parameter name: features.denseblock3.denselayer4.norm2.weight\n",
      "Parameter name: features.denseblock3.denselayer4.norm2.bias\n",
      "Parameter name: features.denseblock3.denselayer4.conv2.weight\n",
      "Parameter name: features.denseblock3.denselayer5.norm1.weight\n",
      "Parameter name: features.denseblock3.denselayer5.norm1.bias\n",
      "Parameter name: features.denseblock3.denselayer5.conv1.weight\n",
      "Parameter name: features.denseblock3.denselayer5.norm2.weight\n",
      "Parameter name: features.denseblock3.denselayer5.norm2.bias\n",
      "Parameter name: features.denseblock3.denselayer5.conv2.weight\n",
      "Parameter name: features.denseblock3.denselayer6.norm1.weight\n",
      "Parameter name: features.denseblock3.denselayer6.norm1.bias\n",
      "Parameter name: features.denseblock3.denselayer6.conv1.weight\n",
      "Parameter name: features.denseblock3.denselayer6.norm2.weight\n",
      "Parameter name: features.denseblock3.denselayer6.norm2.bias\n",
      "Parameter name: features.denseblock3.denselayer6.conv2.weight\n",
      "Parameter name: features.denseblock3.denselayer7.norm1.weight\n",
      "Parameter name: features.denseblock3.denselayer7.norm1.bias\n",
      "Parameter name: features.denseblock3.denselayer7.conv1.weight\n",
      "Parameter name: features.denseblock3.denselayer7.norm2.weight\n",
      "Parameter name: features.denseblock3.denselayer7.norm2.bias\n",
      "Parameter name: features.denseblock3.denselayer7.conv2.weight\n",
      "Parameter name: features.denseblock3.denselayer8.norm1.weight\n",
      "Parameter name: features.denseblock3.denselayer8.norm1.bias\n",
      "Parameter name: features.denseblock3.denselayer8.conv1.weight\n",
      "Parameter name: features.denseblock3.denselayer8.norm2.weight\n",
      "Parameter name: features.denseblock3.denselayer8.norm2.bias\n",
      "Parameter name: features.denseblock3.denselayer8.conv2.weight\n",
      "Parameter name: features.denseblock3.denselayer9.norm1.weight\n",
      "Parameter name: features.denseblock3.denselayer9.norm1.bias\n",
      "Parameter name: features.denseblock3.denselayer9.conv1.weight\n",
      "Parameter name: features.denseblock3.denselayer9.norm2.weight\n",
      "Parameter name: features.denseblock3.denselayer9.norm2.bias\n",
      "Parameter name: features.denseblock3.denselayer9.conv2.weight\n",
      "Parameter name: features.denseblock3.denselayer10.norm1.weight\n",
      "Parameter name: features.denseblock3.denselayer10.norm1.bias\n",
      "Parameter name: features.denseblock3.denselayer10.conv1.weight\n",
      "Parameter name: features.denseblock3.denselayer10.norm2.weight\n",
      "Parameter name: features.denseblock3.denselayer10.norm2.bias\n",
      "Parameter name: features.denseblock3.denselayer10.conv2.weight\n",
      "Parameter name: features.denseblock3.denselayer11.norm1.weight\n",
      "Parameter name: features.denseblock3.denselayer11.norm1.bias\n",
      "Parameter name: features.denseblock3.denselayer11.conv1.weight\n",
      "Parameter name: features.denseblock3.denselayer11.norm2.weight\n",
      "Parameter name: features.denseblock3.denselayer11.norm2.bias\n",
      "Parameter name: features.denseblock3.denselayer11.conv2.weight\n",
      "Parameter name: features.denseblock3.denselayer12.norm1.weight\n",
      "Parameter name: features.denseblock3.denselayer12.norm1.bias\n",
      "Parameter name: features.denseblock3.denselayer12.conv1.weight\n",
      "Parameter name: features.denseblock3.denselayer12.norm2.weight\n",
      "Parameter name: features.denseblock3.denselayer12.norm2.bias\n",
      "Parameter name: features.denseblock3.denselayer12.conv2.weight\n",
      "Parameter name: features.denseblock3.denselayer13.norm1.weight\n",
      "Parameter name: features.denseblock3.denselayer13.norm1.bias\n",
      "Parameter name: features.denseblock3.denselayer13.conv1.weight\n",
      "Parameter name: features.denseblock3.denselayer13.norm2.weight\n",
      "Parameter name: features.denseblock3.denselayer13.norm2.bias\n",
      "Parameter name: features.denseblock3.denselayer13.conv2.weight\n",
      "Parameter name: features.denseblock3.denselayer14.norm1.weight\n",
      "Parameter name: features.denseblock3.denselayer14.norm1.bias\n",
      "Parameter name: features.denseblock3.denselayer14.conv1.weight\n",
      "Parameter name: features.denseblock3.denselayer14.norm2.weight\n",
      "Parameter name: features.denseblock3.denselayer14.norm2.bias\n",
      "Parameter name: features.denseblock3.denselayer14.conv2.weight\n",
      "Parameter name: features.denseblock3.denselayer15.norm1.weight\n",
      "Parameter name: features.denseblock3.denselayer15.norm1.bias\n",
      "Parameter name: features.denseblock3.denselayer15.conv1.weight\n",
      "Parameter name: features.denseblock3.denselayer15.norm2.weight\n",
      "Parameter name: features.denseblock3.denselayer15.norm2.bias\n",
      "Parameter name: features.denseblock3.denselayer15.conv2.weight\n",
      "Parameter name: features.denseblock3.denselayer16.norm1.weight\n",
      "Parameter name: features.denseblock3.denselayer16.norm1.bias\n",
      "Parameter name: features.denseblock3.denselayer16.conv1.weight\n",
      "Parameter name: features.denseblock3.denselayer16.norm2.weight\n",
      "Parameter name: features.denseblock3.denselayer16.norm2.bias\n",
      "Parameter name: features.denseblock3.denselayer16.conv2.weight\n",
      "Parameter name: features.denseblock3.denselayer17.norm1.weight\n",
      "Parameter name: features.denseblock3.denselayer17.norm1.bias\n",
      "Parameter name: features.denseblock3.denselayer17.conv1.weight\n",
      "Parameter name: features.denseblock3.denselayer17.norm2.weight\n",
      "Parameter name: features.denseblock3.denselayer17.norm2.bias\n",
      "Parameter name: features.denseblock3.denselayer17.conv2.weight\n",
      "Parameter name: features.denseblock3.denselayer18.norm1.weight\n",
      "Parameter name: features.denseblock3.denselayer18.norm1.bias\n",
      "Parameter name: features.denseblock3.denselayer18.conv1.weight\n",
      "Parameter name: features.denseblock3.denselayer18.norm2.weight\n",
      "Parameter name: features.denseblock3.denselayer18.norm2.bias\n",
      "Parameter name: features.denseblock3.denselayer18.conv2.weight\n",
      "Parameter name: features.denseblock3.denselayer19.norm1.weight\n",
      "Parameter name: features.denseblock3.denselayer19.norm1.bias\n",
      "Parameter name: features.denseblock3.denselayer19.conv1.weight\n",
      "Parameter name: features.denseblock3.denselayer19.norm2.weight\n",
      "Parameter name: features.denseblock3.denselayer19.norm2.bias\n",
      "Parameter name: features.denseblock3.denselayer19.conv2.weight\n",
      "Parameter name: features.denseblock3.denselayer20.norm1.weight\n",
      "Parameter name: features.denseblock3.denselayer20.norm1.bias\n",
      "Parameter name: features.denseblock3.denselayer20.conv1.weight\n",
      "Parameter name: features.denseblock3.denselayer20.norm2.weight\n",
      "Parameter name: features.denseblock3.denselayer20.norm2.bias\n",
      "Parameter name: features.denseblock3.denselayer20.conv2.weight\n",
      "Parameter name: features.denseblock3.denselayer21.norm1.weight\n",
      "Parameter name: features.denseblock3.denselayer21.norm1.bias\n",
      "Parameter name: features.denseblock3.denselayer21.conv1.weight\n",
      "Parameter name: features.denseblock3.denselayer21.norm2.weight\n",
      "Parameter name: features.denseblock3.denselayer21.norm2.bias\n",
      "Parameter name: features.denseblock3.denselayer21.conv2.weight\n",
      "Parameter name: features.denseblock3.denselayer22.norm1.weight\n",
      "Parameter name: features.denseblock3.denselayer22.norm1.bias\n",
      "Parameter name: features.denseblock3.denselayer22.conv1.weight\n",
      "Parameter name: features.denseblock3.denselayer22.norm2.weight\n",
      "Parameter name: features.denseblock3.denselayer22.norm2.bias\n",
      "Parameter name: features.denseblock3.denselayer22.conv2.weight\n",
      "Parameter name: features.denseblock3.denselayer23.norm1.weight\n",
      "Parameter name: features.denseblock3.denselayer23.norm1.bias\n",
      "Parameter name: features.denseblock3.denselayer23.conv1.weight\n",
      "Parameter name: features.denseblock3.denselayer23.norm2.weight\n",
      "Parameter name: features.denseblock3.denselayer23.norm2.bias\n",
      "Parameter name: features.denseblock3.denselayer23.conv2.weight\n",
      "Parameter name: features.denseblock3.denselayer24.norm1.weight\n",
      "Parameter name: features.denseblock3.denselayer24.norm1.bias\n",
      "Parameter name: features.denseblock3.denselayer24.conv1.weight\n",
      "Parameter name: features.denseblock3.denselayer24.norm2.weight\n",
      "Parameter name: features.denseblock3.denselayer24.norm2.bias\n",
      "Parameter name: features.denseblock3.denselayer24.conv2.weight\n",
      "Parameter name: features.transition3.norm.weight\n",
      "Parameter name: features.transition3.norm.bias\n",
      "Parameter name: features.transition3.conv.weight\n",
      "Parameter name: features.denseblock4.denselayer1.norm1.weight\n",
      "Parameter name: features.denseblock4.denselayer1.norm1.bias\n",
      "Parameter name: features.denseblock4.denselayer1.conv1.weight\n",
      "Parameter name: features.denseblock4.denselayer1.norm2.weight\n",
      "Parameter name: features.denseblock4.denselayer1.norm2.bias\n",
      "Parameter name: features.denseblock4.denselayer1.conv2.weight\n",
      "Parameter name: features.denseblock4.denselayer2.norm1.weight\n",
      "Parameter name: features.denseblock4.denselayer2.norm1.bias\n",
      "Parameter name: features.denseblock4.denselayer2.conv1.weight\n",
      "Parameter name: features.denseblock4.denselayer2.norm2.weight\n",
      "Parameter name: features.denseblock4.denselayer2.norm2.bias\n",
      "Parameter name: features.denseblock4.denselayer2.conv2.weight\n",
      "Parameter name: features.denseblock4.denselayer3.norm1.weight\n",
      "Parameter name: features.denseblock4.denselayer3.norm1.bias\n",
      "Parameter name: features.denseblock4.denselayer3.conv1.weight\n",
      "Parameter name: features.denseblock4.denselayer3.norm2.weight\n",
      "Parameter name: features.denseblock4.denselayer3.norm2.bias\n",
      "Parameter name: features.denseblock4.denselayer3.conv2.weight\n",
      "Parameter name: features.denseblock4.denselayer4.norm1.weight\n",
      "Parameter name: features.denseblock4.denselayer4.norm1.bias\n",
      "Parameter name: features.denseblock4.denselayer4.conv1.weight\n",
      "Parameter name: features.denseblock4.denselayer4.norm2.weight\n",
      "Parameter name: features.denseblock4.denselayer4.norm2.bias\n",
      "Parameter name: features.denseblock4.denselayer4.conv2.weight\n",
      "Parameter name: features.denseblock4.denselayer5.norm1.weight\n",
      "Parameter name: features.denseblock4.denselayer5.norm1.bias\n",
      "Parameter name: features.denseblock4.denselayer5.conv1.weight\n",
      "Parameter name: features.denseblock4.denselayer5.norm2.weight\n",
      "Parameter name: features.denseblock4.denselayer5.norm2.bias\n",
      "Parameter name: features.denseblock4.denselayer5.conv2.weight\n",
      "Parameter name: features.denseblock4.denselayer6.norm1.weight\n",
      "Parameter name: features.denseblock4.denselayer6.norm1.bias\n",
      "Parameter name: features.denseblock4.denselayer6.conv1.weight\n",
      "Parameter name: features.denseblock4.denselayer6.norm2.weight\n",
      "Parameter name: features.denseblock4.denselayer6.norm2.bias\n",
      "Parameter name: features.denseblock4.denselayer6.conv2.weight\n",
      "Parameter name: features.denseblock4.denselayer7.norm1.weight\n",
      "Parameter name: features.denseblock4.denselayer7.norm1.bias\n",
      "Parameter name: features.denseblock4.denselayer7.conv1.weight\n",
      "Parameter name: features.denseblock4.denselayer7.norm2.weight\n",
      "Parameter name: features.denseblock4.denselayer7.norm2.bias\n",
      "Parameter name: features.denseblock4.denselayer7.conv2.weight\n",
      "Parameter name: features.denseblock4.denselayer8.norm1.weight\n",
      "Parameter name: features.denseblock4.denselayer8.norm1.bias\n",
      "Parameter name: features.denseblock4.denselayer8.conv1.weight\n",
      "Parameter name: features.denseblock4.denselayer8.norm2.weight\n",
      "Parameter name: features.denseblock4.denselayer8.norm2.bias\n",
      "Parameter name: features.denseblock4.denselayer8.conv2.weight\n",
      "Parameter name: features.denseblock4.denselayer9.norm1.weight\n",
      "Parameter name: features.denseblock4.denselayer9.norm1.bias\n",
      "Parameter name: features.denseblock4.denselayer9.conv1.weight\n",
      "Parameter name: features.denseblock4.denselayer9.norm2.weight\n",
      "Parameter name: features.denseblock4.denselayer9.norm2.bias\n",
      "Parameter name: features.denseblock4.denselayer9.conv2.weight\n",
      "Parameter name: features.denseblock4.denselayer10.norm1.weight\n",
      "Parameter name: features.denseblock4.denselayer10.norm1.bias\n",
      "Parameter name: features.denseblock4.denselayer10.conv1.weight\n",
      "Parameter name: features.denseblock4.denselayer10.norm2.weight\n",
      "Parameter name: features.denseblock4.denselayer10.norm2.bias\n",
      "Parameter name: features.denseblock4.denselayer10.conv2.weight\n",
      "Parameter name: features.denseblock4.denselayer11.norm1.weight\n",
      "Parameter name: features.denseblock4.denselayer11.norm1.bias\n",
      "Parameter name: features.denseblock4.denselayer11.conv1.weight\n",
      "Parameter name: features.denseblock4.denselayer11.norm2.weight\n",
      "Parameter name: features.denseblock4.denselayer11.norm2.bias\n",
      "Parameter name: features.denseblock4.denselayer11.conv2.weight\n",
      "Parameter name: features.denseblock4.denselayer12.norm1.weight\n",
      "Parameter name: features.denseblock4.denselayer12.norm1.bias\n",
      "Parameter name: features.denseblock4.denselayer12.conv1.weight\n",
      "Parameter name: features.denseblock4.denselayer12.norm2.weight\n",
      "Parameter name: features.denseblock4.denselayer12.norm2.bias\n",
      "Parameter name: features.denseblock4.denselayer12.conv2.weight\n",
      "Parameter name: features.denseblock4.denselayer13.norm1.weight\n",
      "Parameter name: features.denseblock4.denselayer13.norm1.bias\n",
      "Parameter name: features.denseblock4.denselayer13.conv1.weight\n",
      "Parameter name: features.denseblock4.denselayer13.norm2.weight\n",
      "Parameter name: features.denseblock4.denselayer13.norm2.bias\n",
      "Parameter name: features.denseblock4.denselayer13.conv2.weight\n",
      "Parameter name: features.denseblock4.denselayer14.norm1.weight\n",
      "Parameter name: features.denseblock4.denselayer14.norm1.bias\n",
      "Parameter name: features.denseblock4.denselayer14.conv1.weight\n",
      "Parameter name: features.denseblock4.denselayer14.norm2.weight\n",
      "Parameter name: features.denseblock4.denselayer14.norm2.bias\n",
      "Parameter name: features.denseblock4.denselayer14.conv2.weight\n",
      "Parameter name: features.denseblock4.denselayer15.norm1.weight\n",
      "Parameter name: features.denseblock4.denselayer15.norm1.bias\n",
      "Parameter name: features.denseblock4.denselayer15.conv1.weight\n",
      "Parameter name: features.denseblock4.denselayer15.norm2.weight\n",
      "Parameter name: features.denseblock4.denselayer15.norm2.bias\n",
      "Parameter name: features.denseblock4.denselayer15.conv2.weight\n",
      "Parameter name: features.denseblock4.denselayer16.norm1.weight\n",
      "Parameter name: features.denseblock4.denselayer16.norm1.bias\n",
      "Parameter name: features.denseblock4.denselayer16.conv1.weight\n",
      "Parameter name: features.denseblock4.denselayer16.norm2.weight\n",
      "Parameter name: features.denseblock4.denselayer16.norm2.bias\n",
      "Parameter name: features.denseblock4.denselayer16.conv2.weight\n",
      "Parameter name: features.norm5.weight\n",
      "Parameter name: features.norm5.bias\n",
      "Parameter name: classifier.weight\n",
      "Parameter name: classifier.bias\n"
     ]
    }
   ],
   "source": [
    "for name, param in model.named_parameters():\n",
    "    print(f\"Parameter name: {name}\")"
   ]
  },
  {
   "cell_type": "code",
   "execution_count": 18,
   "metadata": {
    "executionInfo": {
     "elapsed": 3,
     "status": "ok",
     "timestamp": 1701091465202,
     "user": {
      "displayName": "DATA",
      "userId": "10508943087954900586"
     },
     "user_tz": -540
    },
    "id": "XKTC2Y-2e1GH"
   },
   "outputs": [],
   "source": [
    "def train_model(model, criterion, optimizer, num_epochs, train_loader, val_loader, patience=5, scheduler=None):\n",
    "    # 스케줄러가 주어지면 스케줄러를 사용하고, 그렇지 않으면 사용하지 않도록 설정\n",
    "    if scheduler:\n",
    "        scheduler = StepLR(optimizer, step_size=7, gamma=0.1)\n",
    "\n",
    "    best_model_wts = copy.deepcopy(model.state_dict())\n",
    "    best_acc = 0.0\n",
    "    best_val_loss = float('inf')\n",
    "    train_losses = []\n",
    "    val_losses = []\n",
    "    train_accuracies = []\n",
    "    val_accuracies = []\n",
    "    counter = 0\n",
    "\n",
    "    for epoch in range(num_epochs):\n",
    "        print('Epoch {}/{}'.format(epoch + 1, num_epochs))\n",
    "        model.train()\n",
    "        running_train_loss = 0.0\n",
    "        running_train_corrects = 0\n",
    "\n",
    "        for inputs, labels in train_loader:\n",
    "            inputs = inputs.to(DEVICE)\n",
    "            labels = labels.to(DEVICE)\n",
    "\n",
    "            optimizer.zero_grad()\n",
    "            with torch.set_grad_enabled(True):\n",
    "                outputs = model(inputs)\n",
    "                _, preds = torch.max(outputs, 1)\n",
    "                loss = criterion(outputs, labels)\n",
    "                loss.backward()\n",
    "                optimizer.step()\n",
    "            running_train_loss += loss.item() * inputs.size(0)\n",
    "            running_train_corrects += torch.sum(preds == labels.data)\n",
    "\n",
    "        epoch_train_loss = running_train_loss / len(train_loader.dataset)\n",
    "        epoch_train_acc = running_train_corrects.double() / len(train_loader.dataset)\n",
    "\n",
    "        print('Train Loss: {:.4f} Train Acc: {:.4f}'.format(epoch_train_loss, epoch_train_acc))\n",
    "\n",
    "        train_losses.append(epoch_train_loss)\n",
    "        train_accuracies.append(epoch_train_acc)\n",
    "\n",
    "        model.eval()\n",
    "        running_val_loss = 0.0\n",
    "        running_val_corrects = 0\n",
    "\n",
    "        for inputs, labels in val_loader:\n",
    "            inputs = inputs.to(DEVICE)\n",
    "            labels = labels.to(DEVICE)\n",
    "            with torch.set_grad_enabled(False):\n",
    "                outputs = model(inputs)\n",
    "                _, preds = torch.max(outputs, 1)\n",
    "                loss = criterion(outputs, labels)\n",
    "            running_val_loss += loss.item() * inputs.size(0)\n",
    "            running_val_corrects += torch.sum(preds == labels.data)\n",
    "\n",
    "        epoch_val_loss = running_val_loss / len(val_loader.dataset)\n",
    "        epoch_val_acc = running_val_corrects.double() / len(val_loader.dataset)\n",
    "\n",
    "        print('Val Loss: {:.4f} Val Acc: {:.4f}'.format(epoch_val_loss, epoch_val_acc))\n",
    "        print('-' * 30)\n",
    "\n",
    "        val_losses.append(epoch_val_loss)\n",
    "        val_accuracies.append(epoch_val_acc)\n",
    "\n",
    "        if scheduler:\n",
    "            scheduler.step()\n",
    "\n",
    "        if epoch_val_acc > best_acc:\n",
    "            best_acc = epoch_val_acc\n",
    "            best_model_wts = copy.deepcopy(model.state_dict())\n",
    "            torch.save(best_model_wts, 'best_model_weights.pth')\n",
    "            counter = 0\n",
    "        else:\n",
    "            counter += 1\n",
    "\n",
    "        if epoch_val_loss < best_val_loss:\n",
    "            best_val_loss = epoch_val_loss\n",
    "\n",
    "        if counter >= patience:\n",
    "            print(\"Early stopping. Training stopped.\")\n",
    "            break\n",
    "\n",
    "    print('Best Validation Accuracy: {:.4f}'.format(best_acc))\n",
    "\n",
    "    model.load_state_dict(best_model_wts)\n",
    "    return model, train_losses, val_losses, train_accuracies, val_accuracies\n"
   ]
  },
  {
   "cell_type": "code",
   "execution_count": 19,
   "metadata": {
    "colab": {
     "base_uri": "https://localhost:8080/"
    },
    "executionInfo": {
     "elapsed": 10536514,
     "status": "ok",
     "timestamp": 1701102001713,
     "user": {
      "displayName": "DATA",
      "userId": "10508943087954900586"
     },
     "user_tz": -540
    },
    "id": "uAlicN5kTwn0",
    "outputId": "9a0dbb0e-a60b-4c44-cdd2-d53a2511a53b"
   },
   "outputs": [
    {
     "name": "stdout",
     "output_type": "stream",
     "text": [
      "Epoch 1/100\n",
      "Train Loss: 1.6736 Train Acc: 0.4431\n",
      "Val Loss: 1.4376 Val Acc: 0.5236\n",
      "------------------------------\n",
      "Epoch 2/100\n",
      "Train Loss: 1.3259 Train Acc: 0.5761\n",
      "Val Loss: 1.1502 Val Acc: 0.6412\n",
      "------------------------------\n",
      "Epoch 3/100\n",
      "Train Loss: 1.1480 Train Acc: 0.6278\n",
      "Val Loss: 0.9615 Val Acc: 0.6922\n",
      "------------------------------\n",
      "Epoch 4/100\n",
      "Train Loss: 1.0180 Train Acc: 0.6652\n",
      "Val Loss: 0.8029 Val Acc: 0.7442\n",
      "------------------------------\n",
      "Epoch 5/100\n",
      "Train Loss: 0.9549 Train Acc: 0.6844\n",
      "Val Loss: 0.7198 Val Acc: 0.7609\n",
      "------------------------------\n",
      "Epoch 6/100\n",
      "Train Loss: 0.8780 Train Acc: 0.7117\n",
      "Val Loss: 0.6505 Val Acc: 0.7793\n",
      "------------------------------\n",
      "Epoch 7/100\n",
      "Train Loss: 0.8089 Train Acc: 0.7325\n",
      "Val Loss: 0.5238 Val Acc: 0.8204\n",
      "------------------------------\n",
      "Epoch 8/100\n",
      "Train Loss: 0.6389 Train Acc: 0.7934\n",
      "Val Loss: 0.3861 Val Acc: 0.8704\n",
      "------------------------------\n",
      "Epoch 9/100\n",
      "Train Loss: 0.5943 Train Acc: 0.8023\n",
      "Val Loss: 0.3604 Val Acc: 0.8781\n",
      "------------------------------\n",
      "Epoch 10/100\n",
      "Train Loss: 0.5604 Train Acc: 0.8162\n",
      "Val Loss: 0.3432 Val Acc: 0.8859\n",
      "------------------------------\n",
      "Epoch 11/100\n",
      "Train Loss: 0.5413 Train Acc: 0.8187\n",
      "Val Loss: 0.3469 Val Acc: 0.8866\n",
      "------------------------------\n",
      "Epoch 12/100\n",
      "Train Loss: 0.5150 Train Acc: 0.8278\n",
      "Val Loss: 0.3273 Val Acc: 0.8930\n",
      "------------------------------\n",
      "Epoch 13/100\n",
      "Train Loss: 0.5065 Train Acc: 0.8306\n",
      "Val Loss: 0.3152 Val Acc: 0.8927\n",
      "------------------------------\n",
      "Epoch 14/100\n",
      "Train Loss: 0.4876 Train Acc: 0.8356\n",
      "Val Loss: 0.3032 Val Acc: 0.8976\n",
      "------------------------------\n",
      "Epoch 15/100\n",
      "Train Loss: 0.4677 Train Acc: 0.8444\n",
      "Val Loss: 0.2920 Val Acc: 0.8983\n",
      "------------------------------\n",
      "Epoch 16/100\n",
      "Train Loss: 0.4573 Train Acc: 0.8461\n",
      "Val Loss: 0.2820 Val Acc: 0.9065\n",
      "------------------------------\n",
      "Epoch 17/100\n",
      "Train Loss: 0.4511 Train Acc: 0.8479\n",
      "Val Loss: 0.2780 Val Acc: 0.9065\n",
      "------------------------------\n",
      "Epoch 18/100\n",
      "Train Loss: 0.4582 Train Acc: 0.8504\n",
      "Val Loss: 0.2852 Val Acc: 0.9012\n",
      "------------------------------\n",
      "Epoch 19/100\n",
      "Train Loss: 0.4471 Train Acc: 0.8488\n",
      "Val Loss: 0.2707 Val Acc: 0.9072\n",
      "------------------------------\n",
      "Epoch 20/100\n",
      "Train Loss: 0.4694 Train Acc: 0.8436\n",
      "Val Loss: 0.2746 Val Acc: 0.9065\n",
      "------------------------------\n",
      "Epoch 21/100\n",
      "Train Loss: 0.4615 Train Acc: 0.8474\n",
      "Val Loss: 0.2716 Val Acc: 0.9040\n",
      "------------------------------\n",
      "Epoch 22/100\n",
      "Train Loss: 0.4467 Train Acc: 0.8535\n",
      "Val Loss: 0.2857 Val Acc: 0.9008\n",
      "------------------------------\n",
      "Epoch 23/100\n",
      "Train Loss: 0.4415 Train Acc: 0.8537\n",
      "Val Loss: 0.2840 Val Acc: 0.9036\n",
      "------------------------------\n",
      "Epoch 24/100\n",
      "Train Loss: 0.4470 Train Acc: 0.8569\n",
      "Val Loss: 0.2731 Val Acc: 0.9040\n",
      "------------------------------\n",
      "Early stopping. Training stopped.\n",
      "Best Validation Accuracy: 0.9072\n"
     ]
    }
   ],
   "source": [
    "# 새로운 분류 레이어를 설정\n",
    "num_ftrs = model.classifier.in_features\n",
    "new_classifier = nn.Linear(num_ftrs, 13)  # 13개의 클래스에 맞게 출력 레이어 설정\n",
    "model.classifier = new_classifier\n",
    "\n",
    "# 손실 함수 및 옵티마이저 설정\n",
    "criterion = nn.CrossEntropyLoss()\n",
    "\n",
    "# NAdam 옵티마이저를 생성하고 모델의 매개변수에 적용\n",
    "optimizer = torch.optim.Adam(model.parameters(), lr=LEARNING_RATE)\n",
    "\n",
    "# 스케줄러 설정\n",
    "step_size = 7  # 스케줄을 적용할 스텝 크기\n",
    "gamma = 0.1  # 학습률을 감소시키는 요소\n",
    "scheduler = torch.optim.lr_scheduler.StepLR(optimizer, step_size=step_size, gamma=gamma)\n",
    "\n",
    "# 모델을 지정한 장치로 이동\n",
    "model = model.to(DEVICE)\n",
    "\n",
    "# 원하는 레이어만 업데이트할지 여부를 결정합니다.\n",
    "for param in model.parameters():\n",
    "    param.requires_grad = True # 모든 레이어는 가중치 업데이트\n",
    "\n",
    "# 모델 훈련 (train_model 함수 호출 시 model 인자로 넘겨주어야 함)\n",
    "model, train_losses, val_losses, train_accuracies, val_accuracies = train_model(model, criterion, optimizer, NUM_EPOCHS, train_loader, val_loader, patience=5, scheduler=scheduler)"
   ]
  },
  {
   "cell_type": "code",
   "execution_count": 20,
   "metadata": {
    "executionInfo": {
     "elapsed": 1048,
     "status": "ok",
     "timestamp": 1701102002758,
     "user": {
      "displayName": "DATA",
      "userId": "10508943087954900586"
     },
     "user_tz": -540
    },
    "id": "GA_fuoPbUXMJ"
   },
   "outputs": [],
   "source": [
    "# 가장 좋은 모델 저장\n",
    "best_model_path = '/content/drive/MyDrive/데이터 크리에이터 캠프/본선/checkpoint/M3_densenet121_final.pth'  # 저장할 모델 파일 경로\n",
    "torch.save(model.state_dict(), best_model_path)"
   ]
  },
  {
   "cell_type": "code",
   "execution_count": 21,
   "metadata": {
    "colab": {
     "base_uri": "https://localhost:8080/",
     "height": 399
    },
    "executionInfo": {
     "elapsed": 8,
     "status": "ok",
     "timestamp": 1701102002758,
     "user": {
      "displayName": "DATA",
      "userId": "10508943087954900586"
     },
     "user_tz": -540
    },
    "id": "OuCS2KxTJUtq",
    "outputId": "93ff8b4c-4f32-48e2-c158-2a4fa74eec6d"
   },
   "outputs": [
    {
     "data": {
      "image/png": "[encoded data removed]",
      "text/plain": [
       "<Figure size 1200x600 with 2 Axes>"
      ]
     },
     "metadata": {},
     "output_type": "display_data"
    }
   ],
   "source": [
    "# 훈련 과정 시각화\n",
    "def plot_training_history(train_losses, val_losses, train_accuracies, val_accuracies):\n",
    "    plt.figure(figsize=(12, 6))\n",
    "    plt.suptitle(\"M3_densenet121_final\")\n",
    "\n",
    "    plt.subplot(1, 2, 1)\n",
    "    plt.plot(train_losses, label='Training Loss')\n",
    "    plt.plot(val_losses, label='Validation Loss')\n",
    "    plt.xlabel('Epoch')\n",
    "    plt.ylabel('Loss')\n",
    "    plt.legend()\n",
    "\n",
    "    plt.subplot(1, 2, 2)\n",
    "    plt.plot(train_accuracies, label='Training Accuracy')\n",
    "    plt.plot(val_accuracies, label='Validation Accuracy')\n",
    "    plt.xlabel('Epoch')\n",
    "    plt.ylabel('Accuracy')\n",
    "    plt.legend()\n",
    "\n",
    "    plt.show()\n",
    "\n",
    "train_accuracies = [acc.to('cpu').item() for acc in train_accuracies]\n",
    "val_accuracies = [acc.to('cpu').item() for acc in val_accuracies]\n",
    "\n",
    "plot_training_history(train_losses, val_losses, train_accuracies, val_accuracies)"
   ]
  },
  {
   "cell_type": "code",
   "execution_count": null,
   "metadata": {
    "executionInfo": {
     "elapsed": 6,
     "status": "ok",
     "timestamp": 1701102002758,
     "user": {
      "displayName": "DATA",
      "userId": "10508943087954900586"
     },
     "user_tz": -540
    },
    "id": "bTnJXijO-2hJ"
   },
   "outputs": [],
   "source": [
    "# Validation accuracy 측정 함수 정의 (제공된 코드 사용)\n",
    "@torch.no_grad()\n",
    "def validate_epoch(model, data_loader, device):\n",
    "    model.eval()\n",
    "    accuracies = []\n",
    "    for images, labels in tqdm(data_loader, total=len(data_loader), mininterval=1, desc='measuring accuracy'):\n",
    "        images = images.to(device)\n",
    "        labels = labels.to(device)\n",
    "\n",
    "        logits = model(images)\n",
    "        pred = torch.argmax(logits, dim=1)\n",
    "\n",
    "        accuracies.append(pred == labels)\n",
    "\n",
    "    accuracy = torch.cat(accuracies).float().mean() * 100\n",
    "    return accuracy.item()"
   ]
  },
  {
   "cell_type": "code",
   "execution_count": 23,
   "metadata": {
    "colab": {
     "base_uri": "https://localhost:8080/"
    },
    "executionInfo": {
     "elapsed": 47924,
     "status": "ok",
     "timestamp": 1701102050676,
     "user": {
      "displayName": "DATA",
      "userId": "10508943087954900586"
     },
     "user_tz": -540
    },
    "id": "JgWQMXiU-27S",
    "outputId": "c82e96e7-5cd1-4bee-aa89-ee7ce9826db9"
   },
   "outputs": [
    {
     "name": "stderr",
     "output_type": "stream",
     "text": [
      "measuring accuracy: 100%|██████████| 111/111 [00:48<00:00,  2.30it/s]"
     ]
    },
    {
     "name": "stdout",
     "output_type": "stream",
     "text": [
      "\n",
      "test Accuracy: 88.95%\n"
     ]
    },
    {
     "name": "stderr",
     "output_type": "stream",
     "text": [
      "\n"
     ]
    }
   ],
   "source": [
    "# 정확도 측정\n",
    "test_accuracy = validate_epoch(model, test_loader, DEVICE)\n",
    "print(f'\\ntest Accuracy: {test_accuracy:.2f}%')"
   ]
  },
  {
   "cell_type": "code",
   "execution_count": 24,
   "metadata": {
    "colab": {
     "base_uri": "https://localhost:8080/",
     "height": 616
    },
    "executionInfo": {
     "elapsed": 54453,
     "status": "ok",
     "timestamp": 1701102105116,
     "user": {
      "displayName": "DATA",
      "userId": "10508943087954900586"
     },
     "user_tz": -540
    },
    "id": "t7Hmf2O6PGi-",
    "outputId": "e370e604-f3de-4287-e1bd-3ad6023e6a1a"
   },
   "outputs": [
    {
     "name": "stderr",
     "output_type": "stream",
     "text": [
      "Creating Confusion Matrix: 100%|██████████| 111/111 [00:53<00:00,  2.08it/s]\n"
     ]
    },
    {
     "data": {
      "image/png": "[encoded data removed]",
      "text/plain": [
       "<Figure size 1000x800 with 2 Axes>"
      ]
     },
     "metadata": {},
     "output_type": "display_data"
    }
   ],
   "source": [
    "# 테스트 데이터에서 검증 및 혼동 행렬 시각화\n",
    "def validate_and_plot_confusion_matrix(model, test_loader, device):\n",
    "    model.eval()\n",
    "    y_true = []\n",
    "    y_pred = []\n",
    "\n",
    "    for inputs, labels in tqdm(test_loader, total=len(test_loader), desc='Creating Confusion Matrix'):\n",
    "        inputs = inputs.to(device)\n",
    "        labels = labels.to(device)\n",
    "\n",
    "        outputs = model(inputs)\n",
    "        _, preds = torch.max(outputs, 1)\n",
    "\n",
    "        y_true.extend(labels.cpu().numpy())\n",
    "        y_pred.extend(preds.cpu().numpy())\n",
    "\n",
    "    cm = confusion_matrix(y_true, y_pred)\n",
    "\n",
    "    plt.figure(figsize=(10, 8))\n",
    "    sns.heatmap(cm, annot=True, fmt=\"d\", cmap=\"Blues\")\n",
    "    plt.xlabel(\"Predicted Labels\")\n",
    "    plt.ylabel(\"True Labels\")\n",
    "    plt.title(\"Confusion Matrix\")\n",
    "    plt.show()\n",
    "\n",
    "validate_and_plot_confusion_matrix(model, test_loader, DEVICE)"
   ]
  },
  {
   "cell_type": "code",
   "execution_count": 25,
   "metadata": {
    "colab": {
     "base_uri": "https://localhost:8080/",
     "height": 616
    },
    "executionInfo": {
     "elapsed": 87004,
     "status": "ok",
     "timestamp": 1701102192114,
     "user": {
      "displayName": "DATA",
      "userId": "10508943087954900586"
     },
     "user_tz": -540
    },
    "id": "YHnA2EG4UB2O",
    "outputId": "d3cb0ca3-c292-493d-8db7-7b51cf8f485d"
   },
   "outputs": [
    {
     "name": "stderr",
     "output_type": "stream",
     "text": [
      "Creating Confusion Matrix: 100%|██████████| 177/177 [01:26<00:00,  2.05it/s]\n"
     ]
    },
    {
     "data": {
      "image/png": "[encoded data removed]",
      "text/plain": [
       "<Figure size 1000x800 with 2 Axes>"
      ]
     },
     "metadata": {},
     "output_type": "display_data"
    }
   ],
   "source": [
    "# 검증 데이터에서 검증 및 혼동 행렬 시각화\n",
    "def validate_and_plot_confusion_matrix(model, test_loader, device):\n",
    "    model.eval()\n",
    "    y_true = []\n",
    "    y_pred = []\n",
    "\n",
    "    for inputs, labels in tqdm(test_loader, total=len(test_loader), desc='Creating Confusion Matrix'):\n",
    "        inputs = inputs.to(device)\n",
    "        labels = labels.to(device)\n",
    "\n",
    "        outputs = model(inputs)\n",
    "        _, preds = torch.max(outputs, 1)\n",
    "\n",
    "        y_true.extend(labels.cpu().numpy())\n",
    "        y_pred.extend(preds.cpu().numpy())\n",
    "\n",
    "    cm = confusion_matrix(y_true, y_pred)\n",
    "\n",
    "    plt.figure(figsize=(10, 8))\n",
    "    sns.heatmap(cm, annot=True, fmt=\"d\", cmap=\"Blues\")\n",
    "    plt.xlabel(\"Predicted Labels\")\n",
    "    plt.ylabel(\"True Labels\")\n",
    "    plt.title(\"Confusion Matrix\")\n",
    "    plt.show()\n",
    "\n",
    "validate_and_plot_confusion_matrix(model, val_loader, DEVICE)"
   ]
  }
 ],
 "metadata": {
  "accelerator": "GPU",
  "colab": {
   "gpuType": "T4",
   "machine_shape": "hm",
   "provenance": []
  },
  "kernelspec": {
   "display_name": "Python 3",
   "name": "python3"
  },
  "language_info": {
   "name": "python"
  }
 },
 "nbformat": 4,
 "nbformat_minor": 0
}
